{
 "cells": [
  {
   "cell_type": "code",
   "execution_count": 1,
   "id": "64b4dd8a",
   "metadata": {},
   "outputs": [],
   "source": [
    "import pandas as pd"
   ]
  },
  {
   "cell_type": "code",
   "execution_count": 2,
   "id": "f24abaee",
   "metadata": {},
   "outputs": [
    {
     "data": {
      "application/vnd.microsoft.datawrangler.viewer.v0+json": {
       "columns": [
        {
         "name": "index",
         "rawType": "int64",
         "type": "integer"
        },
        {
         "name": "Date",
         "rawType": "object",
         "type": "string"
        },
        {
         "name": "Type",
         "rawType": "object",
         "type": "string"
        },
        {
         "name": "Category",
         "rawType": "object",
         "type": "string"
        },
        {
         "name": "Amount",
         "rawType": "float64",
         "type": "float"
        },
        {
         "name": "Currency",
         "rawType": "object",
         "type": "string"
        },
        {
         "name": "Memo",
         "rawType": "object",
         "type": "string"
        },
        {
         "name": "Wallet",
         "rawType": "object",
         "type": "string"
        }
       ],
       "ref": "d77cb49c-9678-4724-bc56-6cfc01708dcd",
       "rows": [
        [
         "0",
         "07/20/2025, 4:16 PM",
         "Expense",
         "Food",
         "-40.0",
         "INR",
         "Maggie and Biscuit",
         "ICICI Savings Account"
        ],
        [
         "1",
         "07/19/2025, 8:47 PM",
         "Expense",
         "Food",
         "-20.0",
         "INR",
         "Biscuits",
         "ICICI Savings Account"
        ],
        [
         "2",
         "07/19/2025, 8:36 PM",
         "Expense",
         "Food",
         "-25.0",
         "INR",
         "Mess chowin",
         "ICICI Savings Account"
        ],
        [
         "3",
         "07/18/2025, 8:08 PM",
         "Expense",
         "Food",
         "-20.0",
         "INR",
         "Biscuits",
         "ICICI Savings Account"
        ],
        [
         "4",
         "07/17/2025, 5:03 PM",
         "Expense",
         "Food",
         "-140.0",
         "INR",
         "Lunch Noodles",
         "ICICI Savings Account"
        ]
       ],
       "shape": {
        "columns": 7,
        "rows": 5
       }
      },
      "text/html": [
       "<div>\n",
       "<style scoped>\n",
       "    .dataframe tbody tr th:only-of-type {\n",
       "        vertical-align: middle;\n",
       "    }\n",
       "\n",
       "    .dataframe tbody tr th {\n",
       "        vertical-align: top;\n",
       "    }\n",
       "\n",
       "    .dataframe thead th {\n",
       "        text-align: right;\n",
       "    }\n",
       "</style>\n",
       "<table border=\"1\" class=\"dataframe\">\n",
       "  <thead>\n",
       "    <tr style=\"text-align: right;\">\n",
       "      <th></th>\n",
       "      <th>Date</th>\n",
       "      <th>Type</th>\n",
       "      <th>Category</th>\n",
       "      <th>Amount</th>\n",
       "      <th>Currency</th>\n",
       "      <th>Memo</th>\n",
       "      <th>Wallet</th>\n",
       "    </tr>\n",
       "  </thead>\n",
       "  <tbody>\n",
       "    <tr>\n",
       "      <th>0</th>\n",
       "      <td>07/20/2025, 4:16 PM</td>\n",
       "      <td>Expense</td>\n",
       "      <td>Food</td>\n",
       "      <td>-40.0</td>\n",
       "      <td>INR</td>\n",
       "      <td>Maggie and Biscuit</td>\n",
       "      <td>ICICI Savings Account</td>\n",
       "    </tr>\n",
       "    <tr>\n",
       "      <th>1</th>\n",
       "      <td>07/19/2025, 8:47 PM</td>\n",
       "      <td>Expense</td>\n",
       "      <td>Food</td>\n",
       "      <td>-20.0</td>\n",
       "      <td>INR</td>\n",
       "      <td>Biscuits</td>\n",
       "      <td>ICICI Savings Account</td>\n",
       "    </tr>\n",
       "    <tr>\n",
       "      <th>2</th>\n",
       "      <td>07/19/2025, 8:36 PM</td>\n",
       "      <td>Expense</td>\n",
       "      <td>Food</td>\n",
       "      <td>-25.0</td>\n",
       "      <td>INR</td>\n",
       "      <td>Mess chowin</td>\n",
       "      <td>ICICI Savings Account</td>\n",
       "    </tr>\n",
       "    <tr>\n",
       "      <th>3</th>\n",
       "      <td>07/18/2025, 8:08 PM</td>\n",
       "      <td>Expense</td>\n",
       "      <td>Food</td>\n",
       "      <td>-20.0</td>\n",
       "      <td>INR</td>\n",
       "      <td>Biscuits</td>\n",
       "      <td>ICICI Savings Account</td>\n",
       "    </tr>\n",
       "    <tr>\n",
       "      <th>4</th>\n",
       "      <td>07/17/2025, 5:03 PM</td>\n",
       "      <td>Expense</td>\n",
       "      <td>Food</td>\n",
       "      <td>-140.0</td>\n",
       "      <td>INR</td>\n",
       "      <td>Lunch Noodles</td>\n",
       "      <td>ICICI Savings Account</td>\n",
       "    </tr>\n",
       "  </tbody>\n",
       "</table>\n",
       "</div>"
      ],
      "text/plain": [
       "                  Date     Type Category  Amount Currency                Memo  \\\n",
       "0  07/20/2025, 4:16 PM  Expense     Food   -40.0      INR  Maggie and Biscuit   \n",
       "1  07/19/2025, 8:47 PM  Expense     Food   -20.0      INR            Biscuits   \n",
       "2  07/19/2025, 8:36 PM  Expense     Food   -25.0      INR         Mess chowin   \n",
       "3  07/18/2025, 8:08 PM  Expense     Food   -20.0      INR            Biscuits   \n",
       "4  07/17/2025, 5:03 PM  Expense     Food  -140.0      INR       Lunch Noodles   \n",
       "\n",
       "                  Wallet  \n",
       "0  ICICI Savings Account  \n",
       "1  ICICI Savings Account  \n",
       "2  ICICI Savings Account  \n",
       "3  ICICI Savings Account  \n",
       "4  ICICI Savings Account  "
      ]
     },
     "execution_count": 2,
     "metadata": {},
     "output_type": "execute_result"
    }
   ],
   "source": [
    "df = pd.read_csv(\"CSV_2025_07_20_08_07_17.csv\")\n",
    "df.head()"
   ]
  },
  {
   "cell_type": "code",
   "execution_count": 3,
   "id": "72d1cdd8",
   "metadata": {},
   "outputs": [
    {
     "name": "stderr",
     "output_type": "stream",
     "text": [
      "/var/folders/jg/rq61_lps6fx5jxn6spdjl0_00000gn/T/ipykernel_6574/3951332809.py:1: UserWarning: Could not infer format, so each element will be parsed individually, falling back to `dateutil`. To ensure parsing is consistent and as-expected, please specify a format.\n",
      "  df['Date']=pd.to_datetime(df['Date'])\n"
     ]
    },
    {
     "data": {
      "application/vnd.microsoft.datawrangler.viewer.v0+json": {
       "columns": [
        {
         "name": "index",
         "rawType": "int64",
         "type": "integer"
        },
        {
         "name": "Date",
         "rawType": "datetime64[ns]",
         "type": "datetime"
        },
        {
         "name": "Type",
         "rawType": "object",
         "type": "string"
        },
        {
         "name": "Category",
         "rawType": "object",
         "type": "string"
        },
        {
         "name": "Amount",
         "rawType": "float64",
         "type": "float"
        },
        {
         "name": "Currency",
         "rawType": "object",
         "type": "string"
        },
        {
         "name": "Memo",
         "rawType": "object",
         "type": "string"
        },
        {
         "name": "Wallet",
         "rawType": "object",
         "type": "string"
        }
       ],
       "ref": "fa6b1f1f-8e07-4b8e-85e4-16ab38558cdd",
       "rows": [
        [
         "0",
         "2025-07-20 16:16:00",
         "Expense",
         "Food",
         "-40.0",
         "INR",
         "Maggie and Biscuit",
         "ICICI Savings Account"
        ],
        [
         "1",
         "2025-07-19 20:47:00",
         "Expense",
         "Food",
         "-20.0",
         "INR",
         "Biscuits",
         "ICICI Savings Account"
        ],
        [
         "2",
         "2025-07-19 20:36:00",
         "Expense",
         "Food",
         "-25.0",
         "INR",
         "Mess chowin",
         "ICICI Savings Account"
        ],
        [
         "3",
         "2025-07-18 20:08:00",
         "Expense",
         "Food",
         "-20.0",
         "INR",
         "Biscuits",
         "ICICI Savings Account"
        ],
        [
         "4",
         "2025-07-17 17:03:00",
         "Expense",
         "Food",
         "-140.0",
         "INR",
         "Lunch Noodles",
         "ICICI Savings Account"
        ]
       ],
       "shape": {
        "columns": 7,
        "rows": 5
       }
      },
      "text/html": [
       "<div>\n",
       "<style scoped>\n",
       "    .dataframe tbody tr th:only-of-type {\n",
       "        vertical-align: middle;\n",
       "    }\n",
       "\n",
       "    .dataframe tbody tr th {\n",
       "        vertical-align: top;\n",
       "    }\n",
       "\n",
       "    .dataframe thead th {\n",
       "        text-align: right;\n",
       "    }\n",
       "</style>\n",
       "<table border=\"1\" class=\"dataframe\">\n",
       "  <thead>\n",
       "    <tr style=\"text-align: right;\">\n",
       "      <th></th>\n",
       "      <th>Date</th>\n",
       "      <th>Type</th>\n",
       "      <th>Category</th>\n",
       "      <th>Amount</th>\n",
       "      <th>Currency</th>\n",
       "      <th>Memo</th>\n",
       "      <th>Wallet</th>\n",
       "    </tr>\n",
       "  </thead>\n",
       "  <tbody>\n",
       "    <tr>\n",
       "      <th>0</th>\n",
       "      <td>2025-07-20 16:16:00</td>\n",
       "      <td>Expense</td>\n",
       "      <td>Food</td>\n",
       "      <td>-40.0</td>\n",
       "      <td>INR</td>\n",
       "      <td>Maggie and Biscuit</td>\n",
       "      <td>ICICI Savings Account</td>\n",
       "    </tr>\n",
       "    <tr>\n",
       "      <th>1</th>\n",
       "      <td>2025-07-19 20:47:00</td>\n",
       "      <td>Expense</td>\n",
       "      <td>Food</td>\n",
       "      <td>-20.0</td>\n",
       "      <td>INR</td>\n",
       "      <td>Biscuits</td>\n",
       "      <td>ICICI Savings Account</td>\n",
       "    </tr>\n",
       "    <tr>\n",
       "      <th>2</th>\n",
       "      <td>2025-07-19 20:36:00</td>\n",
       "      <td>Expense</td>\n",
       "      <td>Food</td>\n",
       "      <td>-25.0</td>\n",
       "      <td>INR</td>\n",
       "      <td>Mess chowin</td>\n",
       "      <td>ICICI Savings Account</td>\n",
       "    </tr>\n",
       "    <tr>\n",
       "      <th>3</th>\n",
       "      <td>2025-07-18 20:08:00</td>\n",
       "      <td>Expense</td>\n",
       "      <td>Food</td>\n",
       "      <td>-20.0</td>\n",
       "      <td>INR</td>\n",
       "      <td>Biscuits</td>\n",
       "      <td>ICICI Savings Account</td>\n",
       "    </tr>\n",
       "    <tr>\n",
       "      <th>4</th>\n",
       "      <td>2025-07-17 17:03:00</td>\n",
       "      <td>Expense</td>\n",
       "      <td>Food</td>\n",
       "      <td>-140.0</td>\n",
       "      <td>INR</td>\n",
       "      <td>Lunch Noodles</td>\n",
       "      <td>ICICI Savings Account</td>\n",
       "    </tr>\n",
       "  </tbody>\n",
       "</table>\n",
       "</div>"
      ],
      "text/plain": [
       "                 Date     Type Category  Amount Currency                Memo  \\\n",
       "0 2025-07-20 16:16:00  Expense     Food   -40.0      INR  Maggie and Biscuit   \n",
       "1 2025-07-19 20:47:00  Expense     Food   -20.0      INR            Biscuits   \n",
       "2 2025-07-19 20:36:00  Expense     Food   -25.0      INR         Mess chowin   \n",
       "3 2025-07-18 20:08:00  Expense     Food   -20.0      INR            Biscuits   \n",
       "4 2025-07-17 17:03:00  Expense     Food  -140.0      INR       Lunch Noodles   \n",
       "\n",
       "                  Wallet  \n",
       "0  ICICI Savings Account  \n",
       "1  ICICI Savings Account  \n",
       "2  ICICI Savings Account  \n",
       "3  ICICI Savings Account  \n",
       "4  ICICI Savings Account  "
      ]
     },
     "execution_count": 3,
     "metadata": {},
     "output_type": "execute_result"
    }
   ],
   "source": [
    "df['Date']=pd.to_datetime(df['Date'])\n",
    "df.head()"
   ]
  }
 ],
 "metadata": {
  "kernelspec": {
   "display_name": ".venv",
   "language": "python",
   "name": "python3"
  },
  "language_info": {
   "codemirror_mode": {
    "name": "ipython",
    "version": 3
   },
   "file_extension": ".py",
   "mimetype": "text/x-python",
   "name": "python",
   "nbconvert_exporter": "python",
   "pygments_lexer": "ipython3",
   "version": "3.9.6"
  }
 },
 "nbformat": 4,
 "nbformat_minor": 5
}
